{
 "cells": [
  {
   "cell_type": "markdown",
   "metadata": {},
   "source": [
    "ARRAY"
   ]
  },
  {
   "cell_type": "code",
   "execution_count": 1,
   "metadata": {},
   "outputs": [
    {
     "name": "stdout",
     "output_type": "stream",
     "text": [
      "Original array is: [64, 34, 25, 12, 22, 11, 90]\n",
      "6\n",
      "6\n",
      "6\n",
      "6\n",
      "6\n",
      "6\n",
      "Sorted array is: [34, 25, 12, 22, 11, 64, 90]\n"
     ]
    }
   ],
   "source": [
    "#IMPLEMENTATION\n",
    "\n",
    "def bubble_sort(arr):\n",
    "    n = len(arr)\n",
    "    for i in range(n):\n",
    "        #Flag to check if any swaps were made in this pass\n",
    "        swapped = False\n",
    "        #Traverse through the list from 0 to n-i-1\n",
    "        #The largest element will \"bubble up\" to the end\n",
    "        for j in range(0, n-i-1):\n",
    "            print(n-i-1)\n",
    "            #Compare adjacent elements\n",
    "            if arr[j] > arr[j+1]:\n",
    "                #swap if they are in the wrong order\n",
    "                arr[j], arr[j+1] = arr[j+1], arr[j]\n",
    "                swapped = True\n",
    "        return arr\n",
    "\n",
    "# Test the function\n",
    "arr = [64, 34, 25, 12, 22, 11, 90]\n",
    "print(\"Original array is:\", arr)\n",
    "bubble_sort(arr)\n",
    "print(\"Sorted array is:\", arr)        "
   ]
  },
  {
   "cell_type": "markdown",
   "metadata": {},
   "source": [
    "SELECTION SORT"
   ]
  },
  {
   "cell_type": "code",
   "execution_count": null,
   "metadata": {},
   "outputs": [],
   "source": [
    "def selection_sort(lst):\n",
    "    n = len(lst)\n",
    "    for i in range(n - 1):\n",
    "        min_index = i\n",
    "        for j in range(i + 1, n):\n",
    "            if lst[j] < lst[min_index]:\n",
    "                min_index = j\n",
    "        lst[i], lst[min_index] = lst[min_index], lst[i]\n",
    "\n",
    "# Example usage:\n",
    "arr = [-2, 45, 0, 11, -9, 88, -97, -202, 747]\n",
    "selection_sort(arr)\n",
    "print(\"The array after sorting in ascending order by selection sort is:\")"
   ]
  },
  {
   "cell_type": "code",
   "execution_count": null,
   "metadata": {},
   "outputs": [],
   "source": [
    "def selectionsort(array):\n",
    "    for i in range(len(array) - 1):\n",
    "        min_indx = i\n",
    "\n",
    "        #Find the max index of the element in at index i\n",
    "        array[i], array[]"
   ]
  }
 ],
 "metadata": {
  "kernelspec": {
   "display_name": "Python 3",
   "language": "python",
   "name": "python3"
  },
  "language_info": {
   "codemirror_mode": {
    "name": "ipython",
    "version": 3
   },
   "file_extension": ".py",
   "mimetype": "text/x-python",
   "name": "python",
   "nbconvert_exporter": "python",
   "pygments_lexer": "ipython3",
   "version": "3.12.1"
  }
 },
 "nbformat": 4,
 "nbformat_minor": 2
}
