{
 "cells": [
  {
   "cell_type": "markdown",
   "metadata": {},
   "source": [
    "CLASSES AND OBJECTS"
   ]
  },
  {
   "cell_type": "code",
   "execution_count": 40,
   "metadata": {},
   "outputs": [
    {
     "name": "stdout",
     "output_type": "stream",
     "text": [
      "Hellen\n"
     ]
    }
   ],
   "source": [
    "class Dog:\n",
    "    def __init__(self,name):\n",
    "        print(name)\n",
    "d = Dog(\"Hellen\")\n",
    "    "
   ]
  },
  {
   "cell_type": "code",
   "execution_count": 47,
   "metadata": {},
   "outputs": [],
   "source": [
    "\n",
    "class pen:\n",
    "    def __init__(self, penlead,penleadNo):\n",
    "        self.penlead = penlead\n",
    "        self .penleadNo = penleadNo\n",
    "    \n",
    "    def getprnlead(self):\n",
    "        print(f\"returned lead name is :{self.penlead}\")\n",
    "\n",
    "    def getnewValues(self,penleadNo):\n",
    "            print(f\"returned lead name is :{self.penlead} and  {penleadNo}\")\n",
    "\n",
    "\n",
    "\n",
    "\n",
    "\n",
    "\n",
    "bic = pen(\"bic penlead\",\"ldde\")\n",
    "# bic.getprnlead()\n",
    "\n",
    "bic.penlead = \"hdcdcdd\"\n",
    "bic.penleadNo = \"L123\"\n",
    "\n",
    "bic.getnewValues(bic.penleadNo)\n",
    "\n",
    "class student:\n",
    "    def __init__(self,age,grade,gender,name):\n",
    "        self.studentAge=age\n",
    "        self.studentgrade=grade\n",
    "        self.studentgender=gender\n",
    "        self.studentName=name\n",
    "    def getUniversity(self,UniversityName):\n",
    "        return f\"Student {self.studentName} is {self.studentAge} years, {self.studentgender} and studying at {UniversityName}\"\n",
    "    def calculateGrade(self):\n",
    "        print(\"Enter your grade\")\n",
    "        marks=int(input(\"ENTER THE MARKS: \"))\n",
    "        while (marks!=20):\n",
    "            newMark = int(input(\"ENTER NEW MARK: \"))\n",
    "            marks += newMark\n",
    "        print(marks)\n",
    "        print(f\"student {self.studentName} has a total of {marks}\")\n",
    "\n",
    "Hellen = student(21,45,\"female\",\"Hellen\")\n",
    "\n",
    "\n",
    "HellenBio= Hellen.getUniversity(\"UCU\")\n",
    "print(HellenBio)\n",
    "\n",
    "Hellengrade=Hellen.calculateGrade()"
   ]
  },
  {
   "cell_type": "code",
   "execution_count": 34,
   "metadata": {},
   "outputs": [
    {
     "data": {
      "text/plain": [
       "'Joy Awori'"
      ]
     },
     "execution_count": 34,
     "metadata": {},
     "output_type": "execute_result"
    }
   ],
   "source": [
    "class Employee:\n",
    "    def __init__(self,Fname,LName,pay):\n",
    "        self.Fname = Fname\n",
    "        self.LName = LName\n",
    "        self.pay = pay\n",
    "        self.email = Fname + '.' + LName + '@company.com'\n",
    "\n",
    "    def fullName(self):\n",
    "        return '{} {} {}'.format(self.Fname, self.LName,self.email)\n",
    "    \n",
    "emp_1 = Employee(\"Joy\",\"Awori\",3000000)\n",
    "emp_2 = Employee(\"Edube\",\"Emma\",3500000)\n",
    "emp_1.fullName()\n",
    "        "
   ]
  },
  {
   "cell_type": "code",
   "execution_count": 35,
   "metadata": {},
   "outputs": [],
   "source": [
    "class Robot:\n",
    "    def introduce_self(self):\n",
    "        return f\"My name is'  {self.name}\"\n",
    "    "
   ]
  },
  {
   "cell_type": "code",
   "execution_count": 36,
   "metadata": {},
   "outputs": [],
   "source": [
    "r1 = Robot()\n",
    "r1.name = \"Tom\"\n",
    "r1.color = \"blue\""
   ]
  },
  {
   "cell_type": "code",
   "execution_count": 37,
   "metadata": {},
   "outputs": [
    {
     "data": {
      "text/plain": [
       "\"My name is'  Tom\""
      ]
     },
     "execution_count": 37,
     "metadata": {},
     "output_type": "execute_result"
    }
   ],
   "source": [
    "r1.introduce_self()"
   ]
  },
  {
   "cell_type": "code",
   "execution_count": 1,
   "metadata": {},
   "outputs": [],
   "source": [
    "bankAccounts = {\n",
    "    \"00001\": {\n",
    "        \"savingsBalance\": 100000,\n",
    "        \"loanbalance\" : 6500000\n",
    "    }, \"00002\": {\n",
    "        \"savingsBalance\": 800000,\n",
    "        \"loanbalance\" : 505000\n",
    "    }, \"00003\": {\n",
    "        \"savingsBalance\": 600000,\n",
    "        \"loanbalance\" : 1500000\n",
    "    }\n",
    "}"
   ]
  },
  {
   "cell_type": "code",
   "execution_count": 2,
   "metadata": {},
   "outputs": [
    {
     "data": {
      "text/plain": [
       "{'savingsBalance': 100000, 'loanbalance': 6500000}"
      ]
     },
     "execution_count": 2,
     "metadata": {},
     "output_type": "execute_result"
    }
   ],
   "source": [
    "bankAccounts[\"00001\"]"
   ]
  },
  {
   "cell_type": "code",
   "execution_count": 44,
   "metadata": {},
   "outputs": [
    {
     "name": "stdout",
     "output_type": "stream",
     "text": [
      "00001\n",
      "hello marvin you have successfully deposited 10300000 and current balance  is 63000000 \n",
      "00002\n",
      "hello lee you have successfully deposited 12900000 and current balance  is 72300000 \n",
      "00003\n",
      "hello bob you have successfully deposited 300000 and current balance  is 1500000 \n",
      "00004\n",
      "invalid account number\n",
      "00005\n",
      "invalid account number\n"
     ]
    }
   ],
   "source": [
    "class cleint:\n",
    "    def __init__(self,AccountNumber,name,age):\n",
    "        self.AccountNumber = AccountNumber\n",
    "        self.name = name\n",
    "        self.age = age\n",
    "        \n",
    "        \n",
    "    bankAccounts = {\n",
    "    \"00001\": {\n",
    "        \"savingsBalance\": 100000,\n",
    "        \"loanbalance\" : 6500000\n",
    "    }, \"00002\": {\n",
    "        \"savingsBalance\": 800000,\n",
    "        \"loanbalance\" : 505000\n",
    "    }, \"00003\": {\n",
    "        \"savingsBalance\": 600000,\n",
    "        \"loanbalance\" : 1500000\n",
    "    }\n",
    "    , \"00004\": {\n",
    "        \"savingsBalance\": 600000,\n",
    "        \"loanbalance\" : 1500000\n",
    "    }\n",
    "    , \"00005\": {\n",
    "        \"savingsBalance\": 600000,\n",
    "        \"loanbalance\" : 1500000\n",
    "    }\n",
    "}\n",
    "    \n",
    "    def getClinetSavingsBalance(self,AccountNumber):\n",
    "        if AccountNumber in bankAccounts:\n",
    "            savings =bankAccounts[AccountNumber][\"savingsBalance\"]\n",
    "            # print(savings)\n",
    "            return savings\n",
    "        else:\n",
    "            print(\"invalid account number\")\n",
    "\n",
    "    def getClinetLoanBalance(self,AccountNumber):\n",
    "        if AccountNumber in bankAccounts:\n",
    "            loansBalnce =bankAccounts[AccountNumber][\"loanbalance\"]\n",
    "            # print(loansBalnce)\n",
    "            return loansBalnce\n",
    "        else:\n",
    "            print(\"invalid account number\")\n",
    "        \n",
    "\n",
    "class operations(cleint):\n",
    "    def DepositToSavings(self,accountnumber,amountToDeposit):\n",
    "        # get balance\n",
    "        client1Balance = cleint.getClinetSavingsBalance(self,accountnumber)\n",
    "        if(type(client1Balance) == int and client1Balance!= 0):\n",
    "            currentBalance = client1Balance +  amountToDeposit\n",
    "            bankAccounts[accountnumber][\"savingsBalance\"] = currentBalance\n",
    "            print(f\"hello {self.name} you have successfully deposited {amountToDeposit} and current balance  is {currentBalance} \")\n",
    "\n",
    "\n",
    "    def withdrawlSavings(self,accountnumber,amountTowithdrawl):\n",
    "        # get balance\n",
    "        client1Balance = cleint.getClinetSavingsBalance(self,accountnumber)\n",
    "        if(client1Balance >= amountTowithdrawl):\n",
    "            currentBalance = client1Balance -  amountTowithdrawl\n",
    "            bankAccounts[accountnumber][\"savingsBalance\"] = currentBalance\n",
    "            print(f\"you have successfully withdrawn {amountTowithdrawl} and current balance  is {currentBalance} \")\n",
    "\n",
    "\n",
    "class departments(operations):\n",
    "    pass\n",
    "\n",
    "\n",
    "\n",
    "\n",
    "\n",
    "myaccounts = {\n",
    "  \"00001\": {\n",
    "    \"name\": \"marvin\",\n",
    "    \"age\": 78,\n",
    "    \"amount\": 10300000\n",
    "  },\n",
    "  \"00002\": {\n",
    "    \"name\": \"lee\",\n",
    "    \"age\": 70,\n",
    "    \"amount\": 12900000\n",
    "  },\n",
    "  \"00003\": {\n",
    "    \"name\": \"bob\",\n",
    "    \"age\": 70,\n",
    "    \"amount\": 300000\n",
    "  },\n",
    "  \"00004\": {\n",
    "    \"name\": \"mary\",\n",
    "    \"age\": 70,\n",
    "    \"amount\": 18800000\n",
    "  },\n",
    "  \"00005\": {\n",
    "    \"name\": \"jane\",\n",
    "    \"age\": 70,\n",
    "    \"amount\": 12300000\n",
    "  }\n",
    "}\n",
    "\n",
    "\n",
    "\n",
    "for i in myaccounts:\n",
    "    print(i)\n",
    "    clientOps = operations(i,myaccounts[i][\"name\"],myaccounts[i][\"age\"])\n",
    "    # # # print(myaccounts[i][\"amount\"])\n",
    "    clientOps.DepositToSavings(i,myaccounts[i][\"amount\"])\n",
    "    \n",
    "\n",
    "\n",
    "\n",
    "\n",
    "\n",
    "\n",
    "\n",
    "\n",
    "# savingsbalances = marvin.getClinetSavingsBalance(marvin.AccountNumber)\n",
    "# print(f\"marvins savings balance  is : {savingsbalances}\")\n",
    "\n",
    "# loansbalances = marvin.getClinetLoanBalance(marvin.AccountNumber)\n",
    "# print(f\"marvins loan balance  is : {loansbalances}\")\n",
    "\n",
    "        \n",
    "\n"
   ]
  }
 ],
 "metadata": {
  "kernelspec": {
   "display_name": "Python 3",
   "language": "python",
   "name": "python3"
  },
  "language_info": {
   "codemirror_mode": {
    "name": "ipython",
    "version": 3
   },
   "file_extension": ".py",
   "mimetype": "text/x-python",
   "name": "python",
   "nbconvert_exporter": "python",
   "pygments_lexer": "ipython3",
   "version": "3.12.1"
  }
 },
 "nbformat": 4,
 "nbformat_minor": 2
}
