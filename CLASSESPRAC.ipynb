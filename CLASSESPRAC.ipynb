{
 "cells": [
  {
   "cell_type": "markdown",
   "metadata": {},
   "source": [
    "CLASSES AND OBJECTS"
   ]
  },
  {
   "cell_type": "code",
   "execution_count": null,
   "metadata": {},
   "outputs": [],
   "source": [
    "class Dog:\n",
    "    def __init__(self,name):\n",
    "        print(name)\n",
    "d = Dog(\"Hellen\")\n",
    "    "
   ]
  },
  {
   "cell_type": "code",
   "execution_count": 8,
   "metadata": {},
   "outputs": [
    {
     "name": "stdout",
     "output_type": "stream",
     "text": [
      "Student Hellen is 21 years, female and studying at UCU\n",
      "Enter your grade\n"
     ]
    },
    {
     "name": "stdout",
     "output_type": "stream",
     "text": [
      "20\n",
      "student Hellen has a total of 20\n"
     ]
    }
   ],
   "source": [
    "class student:\n",
    "    def __init__(self,age,grade,gender,name):\n",
    "        self.studentAge=age\n",
    "        self.studentgrade=grade\n",
    "        self.studentgender=gender\n",
    "        self.studentName=name\n",
    "    def getUniversity(self,UniversityName):\n",
    "        return f\"Student {self.studentName} is {self.studentAge} years, {self.studentgender} and studying at {UniversityName}\"\n",
    "    def calculateGrade(self):\n",
    "        print(\"Enter your grade\")\n",
    "        marks=int(input(\"ENTER THE MARKS: \"))\n",
    "        while (marks!=20):\n",
    "            newMark = int(input(\"ENTER NEW MARK: \"))\n",
    "            marks += newMark\n",
    "        print(marks)\n",
    "        print(f\"student {self.studentName} has a total of {marks}\")\n",
    "Hellen = student(21,45,\"female\",\"Hellen\")\n",
    "HellenBio= Hellen.getUniversity(\"UCU\")\n",
    "print(HellenBio)\n",
    "\n",
    "Hellengrade=Hellen.calculateGrade()"
   ]
  }
 ],
 "metadata": {
  "kernelspec": {
   "display_name": "Python 3",
   "language": "python",
   "name": "python3"
  },
  "language_info": {
   "codemirror_mode": {
    "name": "ipython",
    "version": 3
   },
   "file_extension": ".py",
   "mimetype": "text/x-python",
   "name": "python",
   "nbconvert_exporter": "python",
   "pygments_lexer": "ipython3",
   "version": "3.12.1"
  }
 },
 "nbformat": 4,
 "nbformat_minor": 2
}
